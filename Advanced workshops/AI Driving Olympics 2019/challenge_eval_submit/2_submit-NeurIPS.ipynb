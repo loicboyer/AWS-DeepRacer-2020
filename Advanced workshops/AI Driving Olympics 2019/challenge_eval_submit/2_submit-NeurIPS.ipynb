{
 "cells": [
  {
   "cell_type": "markdown",
   "metadata": {},
   "source": [
    "## Neurips AIDO-3 DeepRacer Racing Challenge Submission\n",
    "\n",
    "This notebook walks you through the submission process, for a valid submission we need the following\n",
    "1. Model checkpoint\n",
    "2. Action space metadata json\n",
    "3. Evaluation logs from the simulation"
   ]
  },
  {
   "cell_type": "markdown",
   "metadata": {},
   "source": [
    "\n",
    "### Step 1:  set parameters\n",
    "Copy the AWS RoboMaker evaluation simulation identification number. AWS SageMaker training job saves checkpoint and frozen graphs into an S3 model bucket. Copy the bucket and prefix from your training job."
   ]
  },
  {
   "cell_type": "code",
   "execution_count": 1,
   "metadata": {},
   "outputs": [],
   "source": [
    "# FILL these in\n",
    "stream_name = '<Evaluation Job SIMULATION ID>'\n",
    "s3_bucket = '<FILL IN YOUR S3 Bucket>'\n",
    "s3_prefix = '<FILL IN YOUR S3 Prefix>'"
   ]
  },
  {
   "cell_type": "markdown",
   "metadata": {},
   "source": [
    "### Step 2:  Download model and logs\n",
    "\n",
    "We have libraries that make it easy for you to download the logs. To ensure it works smoothly, ensure the following\n",
    "1. Your boto library version is >= '1.9.133'\n",
    "2. Ensure the boto credentials you are using can download cloudwatch logs\n",
    "3. If you are using a cloud notebook instance (either ec2 or SageMaker), ensure that your IAM role has access to S3 bucket that you configured above, and cloudwatch logs\n",
    "\n",
    "Your IAM role should be similar to the following \n",
    "\n",
    "```\n",
    "        {\n",
    "            \"Effect\": \"Allow\",\n",
    "            \"Action\": [\n",
    "                \"logs:CreateLogGroup\",\n",
    "                \"logs:CreateLogStream\",\n",
    "                \"logs:PutLogEvents\",\n",
    "                \"logs:DescribeLogStreams\",\n",
    "                \"logs:FilterLogEvents\"\n",
    "            ],\n",
    "            \"Resource\": [\n",
    "                \"arn:aws:logs:*:*:log-group:/aws/robomaker/*:log-stream:*\"\n",
    "            ]\n",
    "        }\n",
    "```\n",
    "or have access to all the cloudwatch logs \n",
    "\n",
    "```\n",
    " \"Resource\": [\n",
    "                \"arn:aws:logs:*:*:*\"\n",
    "            ]\n",
    "```"
   ]
  },
  {
   "cell_type": "markdown",
   "metadata": {},
   "source": [
    "### Imports"
   ]
  },
  {
   "cell_type": "code",
   "execution_count": 20,
   "metadata": {},
   "outputs": [
    {
     "data": {
      "text/plain": [
       "'/home/ec2-user/SageMaker/challenge_submit'"
      ]
     },
     "execution_count": 20,
     "metadata": {},
     "output_type": "execute_result"
    }
   ],
   "source": [
    "from datetime import datetime\n",
    "%matplotlib inline\n",
    "\n",
    "import os\n",
    "os.getcwd()"
   ]
  },
  {
   "cell_type": "code",
   "execution_count": 21,
   "metadata": {},
   "outputs": [],
   "source": [
    "import cw_utils"
   ]
  },
  {
   "cell_type": "code",
   "execution_count": 22,
   "metadata": {},
   "outputs": [
    {
     "data": {
      "text/plain": [
       "'1.10.1'"
      ]
     },
     "execution_count": 22,
     "metadata": {},
     "output_type": "execute_result"
    }
   ],
   "source": [
    "# Make sure your boto version is >= '1.9.133'\n",
    "cw_utils.boto3.__version__"
   ]
  },
  {
   "cell_type": "markdown",
   "metadata": {},
   "source": [
    "### Create a submission folder"
   ]
  },
  {
   "cell_type": "code",
   "execution_count": 7,
   "metadata": {},
   "outputs": [],
   "source": [
    "submit_folder_name = 'submit/'\n",
    "if os.path.exists(submit_folder_name):\n",
    "    !rm -r submit\n",
    "!mkdir submit\n"
   ]
  },
  {
   "cell_type": "markdown",
   "metadata": {},
   "source": [
    "Your model files are in the following s3 bucket. Ensure that the model file you choose to submit is in the s3 bucket."
   ]
  },
  {
   "cell_type": "code",
   "execution_count": 8,
   "metadata": {},
   "outputs": [
    {
     "name": "stdout",
     "output_type": "stream",
     "text": [
      "Your model s3 bucket: s3://sahika-lidar-oldcar-tf12-wide/sahika-lidar-oldcar-tf12-wide-sagemaker-191107-051402/model\n"
     ]
    }
   ],
   "source": [
    "print('Your model s3 bucket: s3://%s/%s/model' %(s3_bucket, s3_prefix))"
   ]
  },
  {
   "cell_type": "markdown",
   "metadata": {},
   "source": [
    "Enter the name of the model file and prefix for checkpoint files."
   ]
  },
  {
   "cell_type": "code",
   "execution_count": 9,
   "metadata": {},
   "outputs": [
    {
     "name": "stdout",
     "output_type": "stream",
     "text": [
      "download: s3://sahika-lidar-oldcar-tf12-wide/sahika-lidar-oldcar-tf12-wide-sagemaker-191107-051402/model/0_Step-0.ckpt.index to submit/0_Step-0.ckpt.index\n",
      "download: s3://sahika-lidar-oldcar-tf12-wide/sahika-lidar-oldcar-tf12-wide-sagemaker-191107-051402/model/0_Step-0.ckpt.meta to submit/0_Step-0.ckpt.meta\n",
      "download: s3://sahika-lidar-oldcar-tf12-wide/sahika-lidar-oldcar-tf12-wide-sagemaker-191107-051402/model/model_0.pb to submit/model_0.pb\n",
      "download: s3://sahika-lidar-oldcar-tf12-wide/sahika-lidar-oldcar-tf12-wide-sagemaker-191107-051402/model/model_metadata.json to submit/model_metadata.json\n",
      "download: s3://sahika-lidar-oldcar-tf12-wide/sahika-lidar-oldcar-tf12-wide-sagemaker-191107-051402/model/0_Step-0.ckpt.data-00000-of-00001 to submit/0_Step-0.ckpt.data-00000-of-00001\n"
     ]
    }
   ],
   "source": [
    "model_name_in_s3_frozen_pb = \"model_0.pb\"\n",
    "model_name_in_s3_checkpoint_prefix = \"0_Step-0.ckpt\"\n",
    "\n",
    "model_name_in_s3_checkpoint_prefix += '*'\n",
    "!aws s3 sync s3://{s3_bucket}/{s3_prefix}/model $submit_folder_name --exclude \"*\" --include $model_name_in_s3_frozen_pb --include \"*.json\" --include $model_name_in_s3_checkpoint_prefix\n"
   ]
  },
  {
   "cell_type": "markdown",
   "metadata": {},
   "source": [
    "Copy the log file to the submission folder."
   ]
  },
  {
   "cell_type": "code",
   "execution_count": 10,
   "metadata": {},
   "outputs": [
    {
     "name": "stdout",
     "output_type": "stream",
     "text": [
      "Downloading ... \n",
      "Writing to ...  submit//deepracer-sim-bc74dbfkwh5q.log\n"
     ]
    }
   ],
   "source": [
    "fname = submit_folder_name + '/deepracer-%s.log' %stream_name\n",
    "cw_utils.download_log(fname, stream_prefix=stream_name)\n",
    " "
   ]
  },
  {
   "cell_type": "markdown",
   "metadata": {},
   "source": [
    "### Custom model submission\n",
    "\n",
    "if you didn't modify the algorithm from (ClippedPPO), then just run next cell without any modification. Else please specify the output head of the algorithm used."
   ]
  },
  {
   "cell_type": "markdown",
   "metadata": {},
   "source": []
  },
  {
   "cell_type": "code",
   "execution_count": null,
   "metadata": {},
   "outputs": [],
   "source": [
    "## To run the neural network on the robocar, we need to name of the output layer.\n",
    "\n",
    "output_head = \"main_level/agent/main/online/network_1/ppo_head_0/policy\"\n",
    "\n",
    "#uncomment for DQN\n",
    "#output_head = \"main_level/agent/main/online/network_0/q_values_head_0/q_values_head_0_target\"\n",
    "\n",
    "output_head_file = submit_folder_name + 'output_head.txt'\n",
    "\n",
    "!echo $output_head > $output_head_file"
   ]
  },
  {
   "cell_type": "code",
   "execution_count": 12,
   "metadata": {},
   "outputs": [
    {
     "name": "stdout",
     "output_type": "stream",
     "text": [
      "submit/\n",
      "submit/0_Step-0.ckpt.index\n",
      "submit/deepracer-sim-bc74dbfkwh5q.log\n",
      "submit/model_metadata.json\n",
      "submit/0_Step-0.ckpt.data-00000-of-00001\n",
      "submit/0_Step-0.ckpt.meta\n",
      "submit/model_0.pb\n"
     ]
    }
   ],
   "source": [
    "!tar -czvf submit.tar.gz $submit_folder_name"
   ]
  },
  {
   "cell_type": "markdown",
   "metadata": {},
   "source": [
    "### Upload and Submit\n",
    "\n",
    "Go to [LINK] and upload the tar.gz file by filling out the form"
   ]
  },
  {
   "cell_type": "code",
   "execution_count": null,
   "metadata": {},
   "outputs": [],
   "source": []
  }
 ],
 "metadata": {
  "kernelspec": {
   "display_name": "conda_tensorflow_p36",
   "language": "python",
   "name": "conda_tensorflow_p36"
  },
  "language_info": {
   "codemirror_mode": {
    "name": "ipython",
    "version": 3
   },
   "file_extension": ".py",
   "mimetype": "text/x-python",
   "name": "python",
   "nbconvert_exporter": "python",
   "pygments_lexer": "ipython3",
   "version": "3.6.5"
  }
 },
 "nbformat": 4,
 "nbformat_minor": 2
}
